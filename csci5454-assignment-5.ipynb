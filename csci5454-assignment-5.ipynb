{
 "cells": [
  {
   "cell_type": "markdown",
   "metadata": {},
   "source": [
    "# Assignment 5\n",
    "\n",
    "Your Name: Shipra Behera\n",
    "\n",
    "Collaborated With:\n",
    "\n",
    "\n",
    "> This assignment is to be completed and uploaded to \n",
    "moodle as a python3 notebook. \n",
    "\n",
    "> Submission deadlines are posted on moodle. \n",
    "\n",
    "> The questions  provided  below will ask you to either write code or \n",
    "write answers in the form of markdown.\n",
    "\n",
    "> Markdown syntax guide is here: [click here](https://github.com/adam-p/markdown-here/wiki/Markdown-Cheatsheet)\n",
    "\n",
    "> Using markdown you can typeset formulae using latex.\n",
    "\n",
    "> This way you can write nice readable answers with formulae like thus:\n",
    "\n",
    ">> The algorithm runs in time $\\Theta\\left(n^{2.1\\log_2(\\log_2( n \\log^*(n)))}\\right)$, \n",
    "wherein $\\log^*(n)$ is the inverse _Ackerman_ function.\n",
    "\n",
    "__Double click anywhere on this box to find out how your instructor typeset it. Press Shift+Enter to go back. __\n"
   ]
  },
  {
   "cell_type": "markdown",
   "metadata": {},
   "source": [
    "## Q1: Bloom Filters (20 points)\n",
    "\n",
    "> A bloom filter is a fast set data structure that maintains a set $S$ of keys. One can insert keys into the set and test whether a given key $k$ belongs to the set. It may used in applications where the keys are ``complicated'' objects such as TCP packets or images that are expensive to compare with each other.\n",
    "\n",
    "> The data structure is an array $T$ of Booleans size $m$ with $l$ different hash functions $h_1, \\ldots, h_l$.\n",
    ">> Initially, `T[i] = FALSE` for all `i`.\n",
    "\n",
    "> If a key $k$ is to be inserted\n",
    ">> We compute $i_1 = h_1(k), \\ldots, i_l = h_l(k)$.\n",
    ">> We set $T[i_1] = \\cdots T[i_l] = \\text{TRUE}$.\n",
    "\n",
    "> __(A)__ Suppose we wish to find out if an element $k$ is a member of the set by checking if\n",
    "$T[h_1(k)], \\ldots, T[h_l(k)]$ are all true. Explain whether this can lead to a *false positive* i.e,\n",
    "the approach wrongly concludes that $k$ belongs to the set when it was never inserted; or *false negative*\n",
    "i.e, the approach wrongly concludes that $k$ does not belong to the set when it does.\n",
    "\n",
    "> __(B)__ Suppose our hash functions are guaranteed to be uniform. I.e, for any randomly chosen\n",
    "key $k$, for any hash function $h_i$ and cell $j$, \n",
    ">  $$ \\mathbb{P}( h_i(k) = j)  = \\frac{1}{m} $$\n",
    "> If $n$ keys are chosen at random and inserted into the filter, compute that probability that any given cell $T[j]$ is set to FALSE after this.\n",
    "\n",
    "> __(C)__ Use the results from previous set to estimate the probability of a false positive. I.e, some $l$ cells\n",
    "$i_1, i_2, \\ldots, i_l$ are simultaneously set to TRUE.\n"
   ]
  },
  {
   "cell_type": "markdown",
   "metadata": {},
   "source": [
    "### Answer 1 { Expected Size: 15 lines}\n",
    "\n",
    "__(A)__ <br/>\n",
    "**This can lead to a false positive** It is possible that some bits which were set to TRUE for a previously inserted key are the same bits which we would get for a new key if run the hash function on it, but never actually insert that key.  <br/>\n",
    "Example: <br/>\n",
    "Let $k = 4$ and we inserted 1 key.\n",
    "Before inserting a key, the bloom filter computes $h_1(k), \\ldots, h_l(k)$ and sets bits at those indices to True. Lets say we get $1, 2, 3, 4$ as indices for this key. \n",
    "\n",
    "Now consider checking for a key in this bloom filter. Lets say we get $1, 3, 4$ as the indices using the hash function on the key. The bloom filter will check these indices and since they have been previously set to 1 by the other two keys, it will return that the key might exist, but when it was never inserted at the first place at all.\n",
    "\n",
    "The bloom filter will return FALSE if any of the bits corresponding to that key is set to FALSE. But if that key were indeed inserted in the filter, all its corresponding bits must have been set to TRUE. Thus, it is **not possible to get a false negative.**\n",
    "\n",
    "\n",
    "__(B)__ <br/>\n",
    "Probability that a bit is set to TRUE at $T[j]$ is <br/>\n",
    "$$ \\mathbb{P}( h_i(k) = j)  = \\frac{1}{m} $$\n",
    "Therefore, probability that a bit is set to FALSE at $T[j]$ is <br/>\n",
    "$$ \\mathbb{P}( h_i(k) = j)  = 1 - \\frac{1}{m} $$ <br/>\n",
    "Since, we have $l$ different hash functions, probability that a bit is set to FALSE at $T[j]$ is <br/>\n",
    "$$ \\mathbb{P}( h_i(k) = j)  = \\left(1 - \\frac{1}{m}\\right)^l $$ <br/>\n",
    "Hence, for $n$ different keys, probability that a bit is set to FALSE at $T[j]$ is <br/>\n",
    "$$ \\mathbb{P}( h_i(k) = j)  = \\left(1 - \\frac{1}{m}\\right)^{ln} $$ <br/>\n",
    "\n",
    "__(C)__ <br/>\n",
    "Probability that the bit at $T[j]$ is not FALSE is <br/>\n",
    "$$ \\mathbb{P}( h_i(k) = j)  = 1 - \\left(1 - \\frac{1}{m}\\right)^{ln} $$ <br/>\n",
    "Therefore, for $l$ hash functions, probability that the bit at $T[j]$ is still not FALSE is <br/>\n",
    "$$ \\mathbb{P}( h_i(k) = j)  = \\left(1 - \\left(1 - \\frac{1}{m}\\right)^{ln}\\right)^l $$ <br/>"
   ]
  },
  {
   "cell_type": "markdown",
   "metadata": {},
   "source": [
    "### Q2: Prove Universal Hash Function (20 points)\n",
    "\n",
    "Suppose we are interested in hashing $n$ bit keys into $m$ bit hash values to hash into a table of size\n",
    "$2^m$. We view our key  as a bit vector of $n$ bits in binary. Eg., for $n = 4$, the key $14 = \\left(\\begin{array}{c} 1\\\\ 1\\\\ 1\\\\ 0 \\end{array} \\right)$.\n",
    "\n",
    "The hash family is defined by random boolean matrices $H$ with $m$ rows and $n$ columns. To compute the hash function, we perform a matrix multiplication. Eg., with $m = 3$ and $n= 4$, we can have a matrix $H$ such as\n",
    "\n",
    "$$ H = \\left[ \\begin{array}{cccc} 0 & 1 & 0 & 1 \\\\\n",
    "1 & 0 & 0 & 0 \\\\\n",
    "1 & 0 & 1 & 1 \\\\\n",
    "\\end{array} \\right]$$.\n",
    "\n",
    "\n",
    "The value of the hash function $H(14)$ is now obtained by multiplying\n",
    "\n",
    "$$ \\left[ \\begin{array}{cccc} 0 & 1 & 0 & 1 \\\\\n",
    "1 & 0 & 0 & 0 \\\\\n",
    "1 & 0 & 1 & 1 \\\\\n",
    "\\end{array} \\right] \\times \\left( \\begin{array}{c} \n",
    "1\\\\\n",
    "1\\\\\n",
    "1\\\\\n",
    "0\\\\\n",
    "\\end{array} \\right) $$\n",
    "\n",
    "The matrix multiplication is carried out using AND for multiplication and XOR instead of addition.\n",
    "\n",
    "(A) For a given matrix $H$ and two  keys $x, y$ that differ only in their $i^{th}$ bits, provide a condition for\n",
    "$Hx = Hy$ holding. (**Hint** It may help to play with examples where you have two numbers $x, y$ that just differ at a particular bit position. Figure out which entries in the matrix are multiplied with these bits that differ).\n",
    "\n",
    "(B) Prove that the probability that two keys $x, y$ such that $x \\not= y$  collide under the random choice of a matrix $H$ is  $\\frac{1}{2^m}$. Note that $x,y$ may differ at multiple bit positions for this problem.\n"
   ]
  },
  {
   "cell_type": "markdown",
   "metadata": {},
   "source": [
    "## Answer 2 (Expected Size: 15 lines)\n",
    "\n"
   ]
  },
  {
   "cell_type": "markdown",
   "metadata": {},
   "source": [
    "__(A)__ <br/>\n",
    "$i^{th}$ entry in $Hx$ is $H[i][0]x[0] + H[i][1]x[1] + \\cdots H[i][i]x[i] + \\cdots + H[i][n]x[n]$ where + is XOR operator. <br/>\n",
    "Similarly, $i^{th}$ entry in $Hy$ is $H[i][0]y[0] + H[i][1]y[1]  + \\cdots H[i][i]y[i] + \\cdots + H[i][n]y[n]$ where + is XOR operator. <br/>\n",
    "If $x,y$ differ in their $i^{th}$ bit then only difference overall shall be introduced by bits in the $i^{th}$ column of $H$. <br/>\n",
    "When all the bits in the $i^{th}$ column are 0, the $i^{th}$ bit in $x,y$ shall make no difference. Hence, $Hx = Hy$, if the $i^{th}$ column of $H$ has all zeros. \n",
    "\n",
    "\n",
    "__(B)__ <br/>\n",
    "\n",
    "From (A), we see that $Hx = Hy$ if $Hx + Hy = [0]$, because they have the same bits set.\n",
    "By distributive property, we can see that $Hx + Hy = H(x+y)$.\n",
    "\n",
    "If $x$ and $y$ have the same $i^{th}$ bit set, we have the $i^{th}$ bit of $(x+y)$ as $0$. Let $x$ and $y$ differ in $j$ out of $n$ bits. Multiplying $H$ with $(x+y)$ is simply the XOR sum of $j$ columns of $H$, where $j$ are the positions where $x$ and $y$ are not equal, i.e $x+y \\neq 0$. \n",
    "\n",
    "We want to find the probability of collision, i.e $H(x+y) = [0]$, i.e the xor  of these $j$ columns should be $[0]$. \n",
    "If any one column is equal to the xor  of the remaining $j-1$ columns, we will get the $[0]$ vector. Only one of these outputs will give us $Hy = Hx$, and each one is equally likely. Since, each column can have $m$ elements, there are $2^m$ possible combinations, the probability of obtaining this is  $\\frac{1}{2^m}$.\n",
    "\n",
    "Here, + is XOR similar to the question."
   ]
  },
  {
   "cell_type": "code",
   "execution_count": null,
   "metadata": {},
   "outputs": [],
   "source": []
  }
 ],
 "metadata": {
  "kernelspec": {
   "display_name": "Python 3",
   "language": "python",
   "name": "python3"
  },
  "language_info": {
   "codemirror_mode": {
    "name": "ipython",
    "version": 3
   },
   "file_extension": ".py",
   "mimetype": "text/x-python",
   "name": "python",
   "nbconvert_exporter": "python",
   "pygments_lexer": "ipython3",
   "version": "3.5.5"
  }
 },
 "nbformat": 4,
 "nbformat_minor": 2
}
