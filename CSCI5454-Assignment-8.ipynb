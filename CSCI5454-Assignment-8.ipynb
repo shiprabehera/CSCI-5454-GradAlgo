{
 "cells": [
  {
   "cell_type": "markdown",
   "metadata": {},
   "source": [
    "# CSCI 5454 : Assignment 8 \n",
    "\n",
    "__Your Name:__ Shipra Behera\n",
    "\n",
    "Collaborated with: \n",
    "\n"
   ]
  },
  {
   "cell_type": "markdown",
   "metadata": {},
   "source": [
    "## Problem 1: Long Path Problem (10 points)\n",
    "\n",
    "Given a graph $G$, two vertices $s, t$ and a number $K$, we wish to know if there exists a (simple) path with at least $K$ edges, between $s$ and $t$ in the graph $G$. Note that a simple path cannot revisit a vertex (or an edge).\n",
    "\n",
    "Show that the long path problem is NP complete.\n",
    "\n",
    "\n"
   ]
  },
  {
   "cell_type": "markdown",
   "metadata": {},
   "source": [
    "## Answer (Expected Size: 12 lines)\n",
    "\n",
    "We can use a simple reduction from the Hamiltonian Path problem. Let's take a certificate $S^*$ which has atleast $K$ set of edges and atmost $|G|$ set of edges. Lets check if there exists a simple path between $s$ and $t$ and if that can be computed in polynomial time. This shows that long path problem is in NP. <br/>\n",
    "\n",
    "Hamiltonian Path problem is NP-complete. We can show that long path problem is NP-hard by reducing Hamiltonian Path problem to Long path. <br/>\n",
    "\n",
    "For an instance $G' =\\ <V', E'>$, for Hamiltonian Path, lets count the number of vertices $V'$ in $G'$, and return $G=G', K=|V'| - 1$ for long path.  Then there exists a simple path of length K in $G'$\n",
    "if and only if G contains a Hamiltonian path.\n",
    "\n",
    "\n",
    "\n"
   ]
  },
  {
   "cell_type": "markdown",
   "metadata": {},
   "source": [
    "## Problem 2: Vertex Cover Problem as an 0-1 Integer Linear Program (10 points)\n",
    "\n",
    "Consider an undirected graph $G$ with $n$ nodes and $m$ edges. A vertex cover is a subset $S$ of the\n",
    "vertices of the graph such that for every edge $e$, at least one of its end points belongs to the cover.\n",
    "We wish to find a vertex cover that involves the smallest number of vertices.\n",
    "Formulate a $0-1$ ILP for the minimal vertex cover problem.\n",
    "\n",
    "You should clearly answer the following questions:\n",
    "- What are your decision variables?\n",
    "- What are the constraints for your problem?\n",
    "- What is the objective and do you maximize it or minimize it?\n"
   ]
  },
  {
   "cell_type": "markdown",
   "metadata": {},
   "source": [
    "## Answer (Expected Size: 10 lines)\n",
    "\n",
    " - We can take decision variables $d_i$ which are 0-1 variables such that $d_i = 1$ if $i$ belongs to the cover and $d_i = 0$ if $i$ does not belong to the cover.\n",
    " - The constraint is that for each of the $m$ edges connecting two nodes, atleast one node should be in $S$.\n",
    " - $ d_i + d_j  \\geq 1  \\ \\text{for all} (i,j) \\in E$. \n",
    " - The objective is to minimize the sum of $d_1 + \\ldots + d_n$\n",
    " - Thus, we can set up the problem as follows:\n",
    "\n",
    "$\\min  \\sum_{i=1}^{n}d_i $, <br/>\n",
    "such that,   $ d_i + d_j  \\geq 1 \\  \\text{for all} (i,j) \\in E$ <br/>\n"
   ]
  },
  {
   "cell_type": "markdown",
   "metadata": {},
   "source": [
    "## Problem 3: Min Truth 2-SAT is NP Complete (10 points)\n",
    "\n",
    "Given that the vertex cover problem is NP-Complete: \n",
    "- Input: An undirected graph and bound K.\n",
    "- Output: Is there a vertex cover whose size is smaller than $K$. \n",
    "See previous problem for definition of vertex cover.\n",
    "\n",
    "Prove that the Min Truth 2-SAT problem is NP Complete.\n",
    "- Input: A CNF SAT problem with at most 2 variables per clause and bound $K$\n",
    "- Output: Is there a satisfying truth assignment which assigns at most $K$ variables to true.\n"
   ]
  },
  {
   "cell_type": "markdown",
   "metadata": {},
   "source": [
    "## Answer (Expected Size: 10 lines)\n",
    "\n",
    "First, we need to prove that Min Truth 2-SAT is in NP. For a given truth assignment as the certificate, we can verify in polynomial time that it assigns at most K true variables, which satisfies the given conditions.<br/>\n",
    "We know that the vertex cover problem is NP-complete, so we need to reduce vertex cover problem to the Min Truth 2-SAT problem.<br/>\n",
    "To select atleast one vertex of connecting edge $(i, j)$, i.e either vertex $i$ or $j$ is selected, we can add a clause $(x_i \\vee x_j)$, where $x_i, x_j$ are variables corresponding to the vertices of an edge.<br/>\n",
    "To satisfy the condition for every edge, atleast one node must be selected for every edge, i.e an AND operation is needed on all the clauses above. The vertex cover problem puts a bound $K$ on the number of vertices, similarly Min Truth 2-SAT problem also sets a bound $K$ on the number of variables to be true. Any truth assignment to the problem is also a vertex cover of the graph.\n",
    "So, if a truth assignment with atmost $K$ variables is found, we can say that the vertex cover has atmost $K$ vertices in it."
   ]
  },
  {
   "cell_type": "markdown",
   "metadata": {},
   "source": [
    "## Problem 4: ItemChoice Problem (10 points)\n",
    "\n",
    "Prove that the ItemChoice is NP complete.\n",
    "- We have items $1, \\ldots, N$. \n",
    "- Item number $i$ has cost $c_i$ and value $v_i$.\n",
    "- We wish to select a subset of items whose total cost is less than or equal to our budget $B$ \n",
    "\n",
    "The ItemChoice problem asks if a subset of items whose total costs fall below $B$ can be chosen\n",
    "such that the value of chosen items exceeds $V$.\n",
    "\n",
    "Inputs to the problem are $N, B, V $, item costs $c_1, \\ldots, c_N$, and item values $v_1, \\ldots, v_N$.\n",
    "\n",
    "**Hint:** Use the SUBSET-SUM problem as the starting point."
   ]
  },
  {
   "cell_type": "markdown",
   "metadata": {},
   "source": [
    "## Answer (Expected Size: 12 lines)\n",
    "\n",
    "ItemChoice problem is in NP. The certificate is the subset of the items that meet the requirements, i.e total cost $\\leq B$ and sum of values $\\geq V$. This can be checked in polynomial time. <br/>\n",
    "We can reduce from the SUBSET-SUM problem. The set $S$ in the SUBSET-SUM can be written as set of costs $c_i$, and we can set the values to be same as $c_i = v_i$. We can set the max budget and min value to be $B = V$. <br/>\n",
    "Now, we have a subset that sums up to $B$. Choosing the items in $S$ will lead to a cost of $B$. Hence, we have reduced the SUBSET-SUM problem to the ItemChoice problem. <br/>\n",
    "Since the SUBSET-SUM problem is NP-complete, we can prove that the ItemChoice problem is also NP-complete."
   ]
  },
  {
   "cell_type": "code",
   "execution_count": null,
   "metadata": {},
   "outputs": [],
   "source": []
  }
 ],
 "metadata": {
  "kernelspec": {
   "display_name": "Python 3",
   "language": "python",
   "name": "python3"
  },
  "language_info": {
   "codemirror_mode": {
    "name": "ipython",
    "version": 3
   },
   "file_extension": ".py",
   "mimetype": "text/x-python",
   "name": "python",
   "nbconvert_exporter": "python",
   "pygments_lexer": "ipython3",
   "version": "3.5.5"
  }
 },
 "nbformat": 4,
 "nbformat_minor": 2
}
