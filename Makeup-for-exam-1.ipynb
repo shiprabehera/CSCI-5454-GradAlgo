{
 "cells": [
  {
   "cell_type": "markdown",
   "metadata": {},
   "source": [
    "# Make Up Assignment For Exam \\# 1"
   ]
  },
  {
   "cell_type": "markdown",
   "metadata": {},
   "source": [
    "## Problem 1\n",
    "A $k$ step circular shift of an array transforms a sorted\n",
    "array $a$  as shown below:\n",
    "$$ [a_1, a_2, \\cdots, a_n ] \\ \\longrightarrow\\ [\\mathbf{a_{n-k+1}}, \\cdots, \\mathbf{a_n}, a_1, \\ldots, a_{n-k}]$$\n",
    "You are given the result of a circular shifted array.  Assume all elements are distinct.\n",
    "\n",
    "Implement a function `getShift(a)` that given a shifted array `a` returns the number of shifts $k$."
   ]
  },
  {
   "cell_type": "code",
   "execution_count": 70,
   "metadata": {},
   "outputs": [],
   "source": [
    "\n",
    "def is_sorted(a):\n",
    "    n = len(a)\n",
    "    for i in range(n-1):\n",
    "        if (a[i] > a[i+1]):\n",
    "            return False\n",
    "    return True\n",
    "def get_peak(a, low, high):\n",
    "    while (low < high):\n",
    "        mid = (low+high)//2\n",
    "        if (a[mid] < a[mid-1] and a[mid] < a[mid+1]):\n",
    "            return mid\n",
    "        elif(a[mid] < a[high]):\n",
    "            high = mid\n",
    "        else:\n",
    "            low = mid+1\n",
    "            \n",
    "    return mid+1\n",
    "def getShift(a):\n",
    "    low, high = 0, len(a) - 1\n",
    "    ans = get_peak(a, low, high)\n",
    "    return ans"
   ]
  },
  {
   "cell_type": "code",
   "execution_count": 71,
   "metadata": {},
   "outputs": [],
   "source": [
    "# TESTING CODE\n",
    "assert(getShift([5,7,9,1, 3, 4]) == 3)\n",
    "assert(getShift([-5, 1,3,4,5,7,9]) == 0)\n",
    "assert(getShift([0,-5,-4,-3,-2,-1]) == 1)\n",
    "assert(getShift([5,-5]) == 1)\n",
    "assert(getShift([1,2,3,4,5,6,7,8,9,10,-10,-9,-8,-7,-6,-5,-4,-3,-2,-1,0]) == 10)"
   ]
  },
  {
   "cell_type": "markdown",
   "metadata": {},
   "source": [
    "## Problem 2\n",
    "\n",
    "Consider an input polynomial $p_0$ of degree $n$. We perform the\n",
    "following sequence of multiplications to calculate $p_k$.\n",
    "$$ p_1 = p_0 \\times p_0,\\ p_2 = p_1 \\times p_1,\\ \\cdots, p_{k} = p_{k-1} \\times p_{k-1} \\,.$$\n",
    "(A) What is the degree of the polynomial $p_k$?\n",
    "(B) What it the total running time for the calculation of $p_k$ starting from $p_0$,\n",
    "if the FFT algorithm were used to multiply polynomials? Provide separate $O$ and $\\Omega$ bounds in case you cannot provide a $\\Theta$ bound.\n",
    "\n",
    "Write a brief justification for your answers.\n"
   ]
  },
  {
   "cell_type": "markdown",
   "metadata": {},
   "source": [
    "## Answer\n",
    "\n",
    "__(A)__\n",
    "Degree of polynomial $p_k$ is $n2^k$. The polynomial is being squared k times, so the degrees add up to become $2n, 4n, 8n, \\cdots$ and so on till $n2^k$. <br/>\n",
    "__(B)__ \n",
    "Total running time would be $\\Theta \\bigg(kn2^{k}\\log(n2^{k})\\bigg)$.\n",
    "\n",
    "\n",
    "The running time of FFT multiplication of two polynomials of degree k is $\\Theta (k\\log(k)$). Therefore, multiplying two polynomials of degree mentioned in (A) would be $\\Theta (n2^k\\log(n2^k))$ time.\n",
    "\n",
    "Total running time from polynomials $p_0$ to $p_k$ would take: $\\Theta \\bigg( \\sum_{i=1}^{k-1}\\big(2^in\\log(2^in)\\big) \\bigg)$. \n",
    "\n",
    "Upper Bound: Solving the above <br/>\n",
    "$2n\\log(2n) + 2^2n\\log(2^2n)  + \\cdots +  2^{k-1}n\\log(2^{k-1}n)  <   2^{k-1}n\\log(2^{k-1}n) + 2^{k-1}n\\log(2^{k-1}n) + \\cdots + 2^{k-1}n\\log(2^{k-1}n) <  (k-1)2^{k-1}n\\log(2^{k-1}n)$. Upper bound is: $O\\bigg((k-1)2^{k-1}n\\log(2^{k-1}n)\\bigg)$\n",
    "\n",
    "Lower Bound: We can say that the total sum is greater than the sum of the $2^{nd}$ half of the series since all terms are positive.\n",
    "\n",
    "$2n\\log(2n) + 2^2n\\log(2^2n) + \\cdots +  2^{k-1}n\\log(2^{k-1}n)  >   2^{\\frac{k-1}{2}}n\\log(2^{\\frac{k-1}{2}}n) + 2^{\\frac{k-1}{2}+1}n\\log(2^{\\frac{k-1}{2}+1}n) + \\cdots + 2^{k-1}n\\log(2^{k-1}n) >  2^{\\frac{k-1}{2}}n\\log(2^{\\frac{k-1}{2}}n) + 2^{\\frac{k-1}{2}}n\\log(2^{\\frac{k-1}{2}}n) + \\cdots + 2^{\\frac{k-1}{2}}n\\log(2^{\\frac{k-1}{2}}n) > (\\frac{k-1}{2})2^{\\frac{k-1}{2}}n\\log(2^{\\frac{k-1}{2}}n)$. \n",
    "<br/>\n",
    "Lower bound is: $\\Omega \\bigg(((\\frac{k-1}{2})2^{\\frac{k-1}{2}}n\\log(2^{\\frac{k-1}{2}}n)\\bigg)$\n",
    "\n",
    "So, the time complexity is: $\\Theta \\bigg(kn2^{k}\\log(n2^{k})\\bigg)$"
   ]
  },
  {
   "cell_type": "markdown",
   "metadata": {},
   "source": [
    "## Problem 3"
   ]
  },
  {
   "cell_type": "markdown",
   "metadata": {},
   "source": [
    "We insert four keys $[1,2,3,4]$ in a random\n",
    "order into an empty binary search tree. What is the probability\n",
    "that the resulting tree is identical to the one shown below?\n",
    "<img src=\"tree-img.png\"></img>"
   ]
  },
  {
   "cell_type": "markdown",
   "metadata": {},
   "source": [
    "## Answer\n",
    "For the tree to look like the figure, the order of insertion has to be [1,3,2,4] or [1,3,4,2]. <br/>\n",
    "Which is equal to probability of choosing 1 first and choosing 3 second, <br/>\n",
    "Pr(1st element = 1). Pr(2nd element = 3) = $\\frac{1}{4}.\\frac{1}{3}$ = $\\frac{1}{12}$\n"
   ]
  },
  {
   "cell_type": "markdown",
   "metadata": {},
   "source": [
    "## Problem 4\n",
    "\n",
    "The program below is run on a randomly shuffled array\n",
    "$a$ of size $n$ with elements $1,\\ldots, n$. (A)  what is the expected number of times\n",
    "that line 4 runs? (B) what is the probability that line 4 is run <font color=\"red\"> two or\n",
    "more </font> times? Write a brief justification of your answers.\n",
    "\n",
    "~~~\n",
    "max = -Infinity\n",
    "for i = 1 to n:\n",
    "    if (a[i] > max):\n",
    "        max = a[i]   # This is line 4\n",
    "return max\n",
    "~~~\n"
   ]
  },
  {
   "cell_type": "markdown",
   "metadata": {},
   "source": [
    "## Answer\n",
    "__(A)__ At epoch i, a[i] will be larger than max, i.e all i-1 elements have been encountered before it. Probability of that would be $\\frac{1}{i}$. Expected number of times that line 4 runs would be $\\sum_{i=1}^n \\frac{1}{i} = ln \\ n$. <br/>\n",
    "__(B)__ Probability that line 4 is run exactly once is $\\frac{1}{n}$ as there is only one element which can be maximum. Hence, probability that it is run two or more times is $1 - \\frac{1}{n}$.\n"
   ]
  },
  {
   "cell_type": "markdown",
   "metadata": {},
   "source": [
    "## Problem 5\n",
    "\n",
    "Let $n$ be a given number that is represented using\n",
    "$k$ bits. How many bits will the following numbers require? Express your answer as a function of $k$.\n",
    "Big $\\Theta$ notation is acceptable. Also try to answer without using asymptotic notation if you can.\n",
    "\n",
    "\n",
    "(A)  $n^2$ \n",
    "\n",
    "(B) $2^n$ \n",
    "\n",
    "(C) $n^n$ \n",
    "\n",
    "(D) $n!$ \n",
    "\n",
    "(E) $\\log_2(n)$ \n"
   ]
  },
  {
   "cell_type": "markdown",
   "metadata": {},
   "source": [
    "## Answer\n",
    "\n",
    "__(A)__ $\\Theta(k)$ <br/>\n",
    "__(B)__ $\\Theta(2^k)$ <br/>\n",
    "__(C)__ $\\Theta(2^{k}k)$ <br/>\n",
    "__(D)__ $\\Theta(2^{k}k)$ <br/>\n",
    "__(E)__ $\\Theta(\\log_2(k))$"
   ]
  },
  {
   "cell_type": "code",
   "execution_count": null,
   "metadata": {},
   "outputs": [],
   "source": []
  }
 ],
 "metadata": {
  "kernelspec": {
   "display_name": "Python 3",
   "language": "python",
   "name": "python3"
  },
  "language_info": {
   "codemirror_mode": {
    "name": "ipython",
    "version": 3
   },
   "file_extension": ".py",
   "mimetype": "text/x-python",
   "name": "python",
   "nbconvert_exporter": "python",
   "pygments_lexer": "ipython3",
   "version": "3.5.5"
  }
 },
 "nbformat": 4,
 "nbformat_minor": 2
}
