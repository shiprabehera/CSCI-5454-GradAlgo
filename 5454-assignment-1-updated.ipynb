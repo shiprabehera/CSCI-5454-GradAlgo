{
 "cells": [
  {
   "cell_type": "markdown",
   "metadata": {},
   "source": [
    "# CSCI 5454 Assignment 1 \n",
    "\n",
    "This assignment should be solved in place and the notebook should be uploaded.\n",
    "\n",
    "Do not forget to edit your name here.\n",
    "\n",
    "__Name:__ Shipra Behera\n",
    "\n",
    "__Collaborated With:__  N/A\n",
    "\n",
    "The collaboration/anti-plagiarism policy for this course can be found in the course website.\n",
    "\n",
    "This assignment is to be completed and uploaded to  moodle as a python3 notebook. \n",
    "Submission deadlines are posted on moodle. \n",
    "\n",
    "The questions  provided  below will ask you to either write code or \n",
    "write answers in the form of markdown. Markdown syntax guide is here: [click here](https://github.com/adam-p/markdown-here/wiki/Markdown-Cheatsheet). Using markdown you can typeset formulae using latex. This way you can write nice readable answers with formulae like thus:\n",
    "\n",
    "> The algorithm runs in time $\\Theta\\left(n^{2.1\\log_2(\\log_2( n \\log^*(n)))}\\right)$, \n",
    "wherein $\\log^*(n)$ is the inverse _Ackerman_ function.\n",
    "\n",
    "__Double click anywhere on this box to find out how your instructor typeset it. Press Shift+Enter to go back. __\n"
   ]
  },
  {
   "cell_type": "markdown",
   "metadata": {},
   "source": [
    "## Problem 1: Binary Search Tree (15 points)\n",
    "\n",
    "The code below implements a python3 class for _binary tree_. The main class is called `Node`. It implements a node of the tree and has a `leftChild` and `rightChild`."
   ]
  },
  {
   "cell_type": "code",
   "execution_count": 27,
   "metadata": {},
   "outputs": [],
   "source": [
    "## DO NOT EDIT THIS CLASS\n",
    "class Node: \n",
    "    # A binary search tree node class in Python3\n",
    "    def __init__(self, n): \n",
    "        self.key = n # Set the key to number n\n",
    "        self.left = None # Currently left child is a leaf denoted by None \n",
    "        self.right = None # right child is a leaf denoted by None\n",
    "        \n",
    "    def addLeftSubtree(self, lNode): # Replace the left child with lNode\n",
    "        self.left = lNode\n",
    "        \n",
    "    def addRightSubtree(self, rNode): # Replace the right child with rNode\n",
    "        self.right = rNode\n",
    "        \n",
    "    def addSubtree(self, lNode, rNode): # Add both left and right nodes\n",
    "        self.addLeftSubtree(lNode)\n",
    "        self.addRightSubtree(rNode)\n",
    "## END-DO NOT EDIT"
   ]
  },
  {
   "cell_type": "markdown",
   "metadata": {},
   "source": [
    "Your job is to implement a function called `isBinarySearchTree(rootNode)` that given the root node (of type `Node`)\n",
    "will return `True` if the node is a Binary Search Tree and `False` otherwise.  Recall that a binary search tree has the property that:\n",
    "- the key for every node is _greater than or equal to_ all nodes in its left subtree and likewise \n",
    "- the key of every node is _less than or equal to_ all nodes in its right subtree.\n",
    "\n",
    "Your solution should use recursion and you are welcome to create/use an auxilliary helper function to be called from `isBinarySearchTree`. All your answer should be in the box below."
   ]
  },
  {
   "cell_type": "code",
   "execution_count": 28,
   "metadata": {},
   "outputs": [],
   "source": [
    "def isBST(root, left, right):\n",
    "    if not root:\n",
    "        return True\n",
    "    if left and left.key >= root.key:\n",
    "        return False\n",
    "    if right and right.key <= root.key:\n",
    "        return False\n",
    "    return isBST(root.left, left, root) and isBST(root.right, root, right)\n",
    "def isBinarySearchTree(rootNode):\n",
    "    # Your CODE HERE\n",
    "    return isBST(rootNode, None, None)\n",
    "    raise NotImplementedError"
   ]
  },
  {
   "cell_type": "code",
   "execution_count": 29,
   "metadata": {},
   "outputs": [
    {
     "name": "stdout",
     "output_type": "stream",
     "text": [
      "Test 1 Passed!\n",
      "Test 2 Passed!\n",
      "Test 3 Passed!\n",
      "Test 4 Passed!\n"
     ]
    }
   ],
   "source": [
    "from IPython.core.display import HTML\n",
    "## TEST CODE: DO NOT EDIT\n",
    "\n",
    "# Tree number 1\n",
    "\n",
    "node4 = Node(1)\n",
    "node5 = Node(-1)\n",
    "node6 = Node(3)\n",
    "\n",
    "node4.addSubtree(node5, node6)\n",
    "\n",
    "node1 = Node(20)\n",
    "node1.addLeftSubtree(node4)\n",
    "\n",
    "node2 = Node(30)\n",
    "node3 = Node(40)\n",
    "node2.addLeftSubtree(node1)\n",
    "node2.addRightSubtree(node3)\n",
    "\n",
    "rootNode1 = node2\n",
    "\n",
    "\n",
    "# Tree number 2\n",
    "\n",
    "node1 = Node(15)\n",
    "node2 = Node(54)\n",
    "node3 = Node(45)\n",
    "node3.addSubtree(node2, node1)\n",
    "node4 = Node(115)\n",
    "node5 = Node(94)\n",
    "node5.addSubtree(node3, node4)\n",
    "node6 = Node(18)\n",
    "node7 = Node(23)\n",
    "node9 = Node(20)\n",
    "node9.addSubtree(node6, node7)\n",
    "\n",
    "rootNode2 = Node(55)\n",
    "rootNode2.addSubtree(node9, node5)\n",
    "\n",
    "# Tree number 3\n",
    "\n",
    "rootNode3 = Node(20)\n",
    "\n",
    "# Tree number 4\n",
    "\n",
    "node11 = Node(18)\n",
    "node12 = Node(26)\n",
    "node13 = Node(12)\n",
    "node14 = Node(29)\n",
    "\n",
    "node11.addSubtree(None, node12)\n",
    "node12.addSubtree(node13, node14)\n",
    "\n",
    "rootNode4 = node11\n",
    "\n",
    "try:\n",
    "    assert isBinarySearchTree(rootNode1), 'Test 1 Failed: expected answer True, your answer False'\n",
    "    print('Test 1 Passed!')\n",
    "    assert not isBinarySearchTree(rootNode2), 'Test 2 Failed: expected answer False, your answer True'\n",
    "    print('Test 2 Passed!')\n",
    "    assert isBinarySearchTree(rootNode3), 'Test 3 Failed: expected answer True, your answer False'\n",
    "    print('Test 3 Passed!')\n",
    "    assert not isBinarySearchTree(rootNode4), 'Test 3 Failed: expected answer False, your answer True'\n",
    "    print('Test 4 Passed!')\n",
    "    \n",
    "except NotImplementedError:\n",
    "    display(HTML('<font color=\"red\"> Nothing Implemented Yet. </font>'))\n",
    "    \n",
    "    \n",
    "\n",
    "## END-DO NOT EDIT"
   ]
  },
  {
   "cell_type": "markdown",
   "metadata": {},
   "source": [
    "## Problem 2: Summation (10 points)\n",
    "\n",
    "Let $S(j,n) = \\sum_{j}^n 2^i$. Calculate a closed form expression for the summation $\\sum_{j=1}^n S(j,n)$."
   ]
  },
  {
   "cell_type": "markdown",
   "metadata": {},
   "source": [
    "## Your answer here (expected length 6 lines)\n",
    "\n",
    "\n",
    "Let $ S' = \\sum_{j=1}^n \\sum_{j}^n 2^i $ <br/>\n",
    "$S' = (2^1 + 2^2 + 2^3 + \\cdots + 2^n)  + (2^2 + 2^3 + \\cdots + 2^n) + (2^3 + \\cdots + 2^n) + \\cdots + (2^{n-1} + 2^n) + 2^n$ <br/>\n",
    "where, $2^1 + 2^2 + 2^3 + \\cdots + 2^n$ is a geometric series and $ \\sum_{k=1}^n 2^k= 2^{n+1} - 2$<br/>\n",
    "After substituting the summation of each term, $S'$ becomes <br/>\n",
    "$(2^{n+1} - 2) + (2^{n+1} - 2^2) + (2^{n+1} - 2^3) + \\cdots + (2^{n+1} - 2^{n-1}) + 2^n$ <br/>\n",
    "$S' = (n-1)2^{n+1} - (2 + 2^2 + 2^3 + \\cdots + 2^{n-1}) + 2^n$ <br/>\n",
    "$S' = (n-1)2^{n+1} - (2^{n} - 2) + 2^n$ <br/>\n",
    "$S' = (n-1)2^{n+1} + 2$ <br/>"
   ]
  },
  {
   "cell_type": "markdown",
   "metadata": {},
   "source": [
    "## Problem 3: Binary Search Trees (15 points)\n",
    "\n",
    "Consider the binary search trees from Problem 1 with `Null` nodes as leaves and internal nodes\n",
    "described by the Node data structure.\n",
    "Recall that the height of a node in a binary search tree is defined as follows:\n",
    "- height(Null) = 0\n",
    "- height(internal node) = 1 + max( height(left child), height(right child) ) \n",
    "\n",
    "A perfectly balanced tree is either a Null node or one where for every internal node (a) both subtrees are perfectly balanced and (b) the left the height of the left child and that of the right child are the same.\n",
    "\n",
    "\n",
    "Calculate the summation $$\\sum_{n \\in InternalNodes} \\text{height}(n) $$ for a perfectly balanced tree whose root has height $h$. \n",
    "\n",
    "__(A)__ Set up a recurrence $S(h)$ for this summation with the base cases for $S(0), S(1)$.\n",
    "\n",
    "__(B)__ Solve the recurrence from __(A)__ to obtain a closed form expression."
   ]
  },
  {
   "cell_type": "markdown",
   "metadata": {},
   "source": [
    "## Your answer here (expected length: 12 lines)\n",
    "\n",
    "\n",
    "\n",
    "__(A)__ <br/>For one node with no children, S(0) = 0 and for a balanced binary tree with one root node and two children, S(1) = 1 + max(0, 0) = 1.<br/>\n",
    "For a perfectly balanced tree whose root has height $h$, there are two children with height $h-1$, and from the root node height is $h$ . This gives us $S(h) = h + 2S(h-1)$<br/>\n",
    "__(B)__ Solving the above recurrence by expansion<br/>\n",
    "$S(h) = h + 2S(h-1)$<br/>\n",
    "$= h + 2[(h-1) + 2S(h-2)]$ <br/>\n",
    "$= h + 2(h-1) + 4S(h-2)$ <br/>\n",
    "$= h + 2(h-1) + 4[(h-2) + 2S(h-3)]$ <br/>\n",
    "$= h + 2(h-1) + 4(h-2) + 8S(h-3)$ <br/>\n",
    "$= h + 2(h-1) + 4(h-2) + \\cdots + 2^{h-1}S(1)$ <br/>\n",
    "Since $S(1)=1$, it can also be written as $h-(h-1)$ <br/>\n",
    "$= h + 2(h-1) + 4(h-2) + \\cdots + 2^{h-1}(h-(h-1))$ <br/>\n",
    "$= h + 2h-2 + 4h-8 + \\cdots + 2^{h-1}(h-(h-1))$ <br/>\n",
    "$= h + 2h-2 + 4h-8 + \\cdots + 2^{h-1}h- 2^{h-1}(h-1)$ <br/>\n",
    "$ = h(1 + 2 + 4 + \\cdots + 2^{h-1}) - [2 + 8 + \\cdots + 2^{h-1}(h-1)]$ <br/>\n",
    "$ = h(1 + 2 + 4 + \\cdots + 2^{h-1}) - [1\\times2^1 + 2\\times2^2 + \\cdots + 2^{h-1}(h-1)]$ <br/>\n",
    "$ = h(\\sum_{i=0}^{h-1} 2^i) - \\sum_{i=1}^{h-1} i2^i$ <br/>\n",
    "$ = h(2^h - 1) - [2^{h}h - 2(2^h - 1)]$ <br/>\n",
    "$ = 2^hh - h - 2^{h}h + 2^{h+1} - 2$ <br/>\n",
    "$ = 2^{h+1} - h- 2$ <br/>"
   ]
  },
  {
   "cell_type": "markdown",
   "metadata": {},
   "source": [
    "## Problem 4 (10 points)\n",
    "\n",
    "Problem 3 asked you to calculate the summation of the heights of the internal nodes for a perfectly balanced\n",
    "tree. We now ask you to write down the worst case amongst all possible binary trees with $n$ internal nodes.\n",
    "\n",
    "$$ T(n) = \\sum_{v \\in Internal Nodes} height(v) $$.\n",
    "\n",
    "You should express your answer in the $\\Theta(\\cdot)$ notation. Also describe in one line what kind of tree yields this worst case."
   ]
  },
  {
   "cell_type": "markdown",
   "metadata": {},
   "source": [
    "## Your answer here (Expected length: 3 lines).\n",
    "\n",
    "\n",
    "If we consider a skewed binary tree with `Null` node as leaf, <br/>\n",
    "$T(n) = 1 + 2 + 3 + \\cdots + n = \\frac{n(n+1)}{2}$ <br/>\n",
    "which is $\\Theta(n^2)$\n",
    "\n"
   ]
  },
  {
   "cell_type": "code",
   "execution_count": null,
   "metadata": {},
   "outputs": [],
   "source": []
  }
 ],
 "metadata": {
  "kernelspec": {
   "display_name": "Python 3",
   "language": "python",
   "name": "python3"
  },
  "language_info": {
   "codemirror_mode": {
    "name": "ipython",
    "version": 3
   },
   "file_extension": ".py",
   "mimetype": "text/x-python",
   "name": "python",
   "nbconvert_exporter": "python",
   "pygments_lexer": "ipython3",
   "version": "3.5.5"
  }
 },
 "nbformat": 4,
 "nbformat_minor": 2
}
